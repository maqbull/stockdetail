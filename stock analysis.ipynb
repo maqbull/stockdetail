{
 "cells": [
  {
   "cell_type": "code",
   "execution_count": 1,
   "metadata": {},
   "outputs": [],
   "source": [
    "import numpy as np # linear algebra\n",
    "import pandas as pd # pandas for dataframe based data processing and CSV file I/O"
   ]
  },
  {
   "cell_type": "code",
   "execution_count": 2,
   "metadata": {},
   "outputs": [],
   "source": [
    "import requests # for http requests\n",
    "from bs4 import BeautifulSoup # for html parsing and scraping\n",
    "from fastnumbers import isfloat \n",
    "from fastnumbers import fast_float\n",
    "from multiprocessing.dummy import Pool as ThreadPool \n",
    "import bs4\n",
    "\n",
    "import matplotlib.pyplot as plt\n",
    "import seaborn as sns\n",
    "import json\n",
    "\n",
    "\n",
    "sns.set_style('whitegrid')\n",
    "%matplotlib inline\n",
    "from IPython.core.interactiveshell import InteractiveShell\n",
    "InteractiveShell.ast_node_interactivity = \"all\""
   ]
  },
  {
   "cell_type": "code",
   "execution_count": 3,
   "metadata": {},
   "outputs": [],
   "source": [
    "def ffloat(string):\n",
    "    if string is None:\n",
    "        return np.nan\n",
    "    if type(string)==float or type(string)==np.float64:\n",
    "        return string\n",
    "    if type(string)==int or type(string)==np.int64:\n",
    "        return string\n",
    "    return fast_float(string.split(\" \")[0].replace(',','').replace('%',''),\n",
    "                      default=np.nan)\n",
    "\n",
    "def ffloat_list(string_list):\n",
    "    return list(map(ffloat,string_list))\n",
    "\n",
    "def remove_multiple_spaces(string):\n",
    "    if type(string)==str:\n",
    "        return ' '.join(string.split())\n",
    "    return string"
   ]
  },
  {
   "cell_type": "code",
   "execution_count": 4,
   "metadata": {},
   "outputs": [
    {
     "data": {
      "text/html": [
       "<b>Rendered HTML</b>"
      ],
      "text/plain": [
       "<IPython.core.display.HTML object>"
      ]
     },
     "execution_count": 4,
     "metadata": {},
     "output_type": "execute_result"
    }
   ],
   "source": [
    "from IPython.core.display import HTML\n",
    "HTML(\"<b>Rendered HTML</b>\")"
   ]
  },
  {
   "cell_type": "code",
   "execution_count": 5,
   "metadata": {},
   "outputs": [
    {
     "data": {
      "text/html": [
       "<h1>Hero Motocorp </h1>"
      ],
      "text/plain": [
       "<IPython.core.display.HTML object>"
      ]
     },
     "execution_count": 5,
     "metadata": {},
     "output_type": "execute_result"
    },
    {
     "data": {
      "text/html": [
       "<div class=\"pricupdn nsechange grn\" id=\"nsechange\"><span class=\"greenuparow\"></span>5.15 (0.17%)</div>"
      ],
      "text/plain": [
       "<IPython.core.display.HTML object>"
      ]
     },
     "execution_count": 5,
     "metadata": {},
     "output_type": "execute_result"
    }
   ],
   "source": [
    "page_response = requests.get(\"https://www.moneycontrol.com/india/stockpricequote/auto-2-3-wheelers/heromotocorp/HHM\", timeout=240)\n",
    "page_content = BeautifulSoup(page_response.content, \"html.parser\")\n",
    "HTML(str(page_content.find(\"h1\")))\n",
    "price_div = page_content.find(\"div\",attrs={\"id\":'nsechange'})\n",
    "HTML(str(price_div))"
   ]
  },
  {
   "cell_type": "code",
   "execution_count": 24,
   "metadata": {},
   "outputs": [],
   "source": [
    "\n",
    "def get_scrip_info(url):\n",
    "    original_url = url\n",
    "    key_val_pairs = {}\n",
    "    page_response = requests.get(url, timeout = 240)\n",
    "    page_content = BeautifulSoup(page_response.content,\"html.parser\")\n",
    "    \n",
    "    price = ffloat(page_content.find('div',attrs={'id':'nsecp'}).text)\n",
    "    name = page_content.find('div',attrs={'id':'stockName'}).text\n",
    "\n",
    "    yearly_high = page_content.find('div',attrs={'id':'sp_yearlyhigh'}).text.strip()\n",
    "    yearly_low = page_content.find('div',attrs={'id':'sp_yearlylow'}).text.strip()\n",
    "    html_data_content = page_content.find('div', attrs={'id': 'stk_overview'})\n",
    "\n",
    "    petable = ffloat(page_content.find('td',attrs={'class':'nsepe bsepe'}).text)\n",
    "    pbtable = ffloat(page_content.find('td',attrs={'class':'nsepb bsepb'}).text)\n",
    "    volume = ffloat(page_content.find('td',attrs={'class':'nsevol bsevol'}).text)\n",
    "\n",
    "\n",
    "    key_val_pairs[\"name\"] = name\n",
    "    key_val_pairs[\"pe\"] = petable\n",
    "    key_val_pairs[\"pb\"] = pbtable\n",
    "    key_val_pairs['price'] = price\n",
    "    key_val_pairs['volume'] = volume\n",
    "    key_val_pairs[\"yearly_low\"] = ffloat(yearly_low)\n",
    "    key_val_pairs[\"yearly_high\"] = ffloat(yearly_high)\n",
    "    return key_val_pairs"
   ]
  },
  {
   "cell_type": "code",
   "execution_count": 25,
   "metadata": {},
   "outputs": [
    {
     "data": {
      "text/plain": [
       "{'name': 'Hero Motocorp Sector: \\n                Auto - 2 & 3 Wheelers\\n            ',\n",
       " 'pe': 24.67,\n",
       " 'pb': 4.29,\n",
       " 'price': 3117.5,\n",
       " 'volume': 1025407.0,\n",
       " 'yearly_low': 1475.0,\n",
       " 'yearly_high': 3394.9}"
      ]
     },
     "execution_count": 25,
     "metadata": {},
     "output_type": "execute_result"
    }
   ],
   "source": [
    "get_scrip_info(\"https://www.moneycontrol.com/india/stockpricequote/auto-2-3-wheelers/heromotocorp/HHM\")"
   ]
  },
  {
   "cell_type": "code",
   "execution_count": null,
   "metadata": {},
   "outputs": [],
   "source": []
  }
 ],
 "metadata": {
  "kernelspec": {
   "display_name": "Python 3",
   "language": "python",
   "name": "python3"
  },
  "language_info": {
   "codemirror_mode": {
    "name": "ipython",
    "version": 3
   },
   "file_extension": ".py",
   "mimetype": "text/x-python",
   "name": "python",
   "nbconvert_exporter": "python",
   "pygments_lexer": "ipython3",
   "version": "3.7.4"
  }
 },
 "nbformat": 4,
 "nbformat_minor": 4
}
